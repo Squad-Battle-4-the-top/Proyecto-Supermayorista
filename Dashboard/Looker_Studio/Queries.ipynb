{
 "cells": [
  {
   "cell_type": "code",
   "execution_count": 111,
   "id": "4a3d3415",
   "metadata": {},
   "outputs": [],
   "source": [
    "import pyodbc\n",
    "from sqlalchemy import create_engine\n",
    "\n",
    "import pandas as pd\n",
    "import numpy as np\n",
    "pd.options.display.float_format = '{:,.2f}'.format\n",
    "#pd.reset_option('display.float_format')\n",
    "\n",
    "from google.oauth2.service_account import Credentials"
   ]
  },
  {
   "cell_type": "code",
   "execution_count": 112,
   "id": "16986b9e",
   "metadata": {},
   "outputs": [],
   "source": [
    "credentials = Credentials.from_service_account_file(r\"C:\\Users\\jesus\\.gc\\sien-project.json\")"
   ]
  },
  {
   "cell_type": "code",
   "execution_count": 113,
   "id": "ac3856f2",
   "metadata": {},
   "outputs": [],
   "source": [
    "server_name = \"jesus\"\n",
    "database_name = \"DWH_SUPERMAYORISTA\"\n",
    "\n",
    "engine =create_engine(f\"mssql+pyodbc://@{server_name}/{database_name}?trusted_connection=yes&driver=ODBC+Driver+17+for+SQL+Server\",\n",
    "                     fast_executemany=True)"
   ]
  },
  {
   "cell_type": "code",
   "execution_count": 114,
   "id": "738fcf03",
   "metadata": {},
   "outputs": [
    {
     "data": {
      "text/plain": [
       "<sqlalchemy.engine.base.Connection at 0x240ab3993a0>"
      ]
     },
     "execution_count": 114,
     "metadata": {},
     "output_type": "execute_result"
    }
   ],
   "source": [
    "engine.connect()"
   ]
  },
  {
   "cell_type": "markdown",
   "id": "d8b2521d",
   "metadata": {},
   "source": [
    "### DIM_BANCO"
   ]
  },
  {
   "cell_type": "code",
   "execution_count": 115,
   "id": "e7c36185",
   "metadata": {},
   "outputs": [],
   "source": [
    "dim_banco=pd.read_sql_table('DIM_BANCO', engine)  "
   ]
  },
  {
   "cell_type": "code",
   "execution_count": 116,
   "id": "58a7d2c9",
   "metadata": {},
   "outputs": [
    {
     "data": {
      "text/html": [
       "<div>\n",
       "<style scoped>\n",
       "    .dataframe tbody tr th:only-of-type {\n",
       "        vertical-align: middle;\n",
       "    }\n",
       "\n",
       "    .dataframe tbody tr th {\n",
       "        vertical-align: top;\n",
       "    }\n",
       "\n",
       "    .dataframe thead th {\n",
       "        text-align: right;\n",
       "    }\n",
       "</style>\n",
       "<table border=\"1\" class=\"dataframe\">\n",
       "  <thead>\n",
       "    <tr style=\"text-align: right;\">\n",
       "      <th></th>\n",
       "      <th>cod_banco</th>\n",
       "      <th>nombre_banco</th>\n",
       "      <th>comision</th>\n",
       "    </tr>\n",
       "  </thead>\n",
       "  <tbody>\n",
       "    <tr>\n",
       "      <th>0</th>\n",
       "      <td>BAN01</td>\n",
       "      <td>BBVA</td>\n",
       "      <td>2.80</td>\n",
       "    </tr>\n",
       "    <tr>\n",
       "      <th>1</th>\n",
       "      <td>BAN02</td>\n",
       "      <td>BCP</td>\n",
       "      <td>3.50</td>\n",
       "    </tr>\n",
       "    <tr>\n",
       "      <th>2</th>\n",
       "      <td>BAN03</td>\n",
       "      <td>SCOTIABANK</td>\n",
       "      <td>2.00</td>\n",
       "    </tr>\n",
       "    <tr>\n",
       "      <th>3</th>\n",
       "      <td>BAN04</td>\n",
       "      <td>INTERBANK</td>\n",
       "      <td>3.00</td>\n",
       "    </tr>\n",
       "    <tr>\n",
       "      <th>4</th>\n",
       "      <td>BAN05</td>\n",
       "      <td>MIBANCO</td>\n",
       "      <td>4.20</td>\n",
       "    </tr>\n",
       "    <tr>\n",
       "      <th>5</th>\n",
       "      <td>BAN06</td>\n",
       "      <td>CAJA HUANCAYO</td>\n",
       "      <td>3.30</td>\n",
       "    </tr>\n",
       "  </tbody>\n",
       "</table>\n",
       "</div>"
      ],
      "text/plain": [
       "  cod_banco   nombre_banco  comision\n",
       "0     BAN01           BBVA      2.80\n",
       "1     BAN02            BCP      3.50\n",
       "2     BAN03     SCOTIABANK      2.00\n",
       "3     BAN04      INTERBANK      3.00\n",
       "4     BAN05        MIBANCO      4.20\n",
       "5     BAN06  CAJA HUANCAYO      3.30"
      ]
     },
     "metadata": {},
     "output_type": "display_data"
    },
    {
     "name": "stdout",
     "output_type": "stream",
     "text": [
      "(6, 3)\n"
     ]
    }
   ],
   "source": [
    "display(dim_banco)\n",
    "print(dim_banco.shape)"
   ]
  },
  {
   "cell_type": "markdown",
   "id": "20caaa41",
   "metadata": {},
   "source": [
    "### DIM_CLIENTE"
   ]
  },
  {
   "cell_type": "code",
   "execution_count": 117,
   "id": "c10cbf21",
   "metadata": {
    "scrolled": false
   },
   "outputs": [],
   "source": [
    "dim_cliente=pd.read_sql_table('DIM_CLIENTE', engine)  "
   ]
  },
  {
   "cell_type": "code",
   "execution_count": 118,
   "id": "8915166d",
   "metadata": {},
   "outputs": [
    {
     "data": {
      "text/html": [
       "<div>\n",
       "<style scoped>\n",
       "    .dataframe tbody tr th:only-of-type {\n",
       "        vertical-align: middle;\n",
       "    }\n",
       "\n",
       "    .dataframe tbody tr th {\n",
       "        vertical-align: top;\n",
       "    }\n",
       "\n",
       "    .dataframe thead th {\n",
       "        text-align: right;\n",
       "    }\n",
       "</style>\n",
       "<table border=\"1\" class=\"dataframe\">\n",
       "  <thead>\n",
       "    <tr style=\"text-align: right;\">\n",
       "      <th></th>\n",
       "      <th>dni_cliente</th>\n",
       "      <th>sexo_cliente</th>\n",
       "      <th>fecha_nacimiento</th>\n",
       "      <th>departamento_cliente</th>\n",
       "      <th>distrito_cliente</th>\n",
       "      <th>ubigeo_cliente</th>\n",
       "      <th>punto_geografico</th>\n",
       "    </tr>\n",
       "  </thead>\n",
       "  <tbody>\n",
       "    <tr>\n",
       "      <th>0</th>\n",
       "      <td>10001165</td>\n",
       "      <td>FEMENINO</td>\n",
       "      <td>1998-04-30</td>\n",
       "      <td>HUANUCO</td>\n",
       "      <td>JACAS GRANDE</td>\n",
       "      <td>100504</td>\n",
       "      <td>-9.51519574367, -76.6684109766</td>\n",
       "    </tr>\n",
       "    <tr>\n",
       "      <th>1</th>\n",
       "      <td>10001400</td>\n",
       "      <td>MASCULINO</td>\n",
       "      <td>1995-11-25</td>\n",
       "      <td>PASCO</td>\n",
       "      <td>PALCAZU</td>\n",
       "      <td>190304</td>\n",
       "      <td>-10.2343589434, -75.2761411859</td>\n",
       "    </tr>\n",
       "    <tr>\n",
       "      <th>2</th>\n",
       "      <td>10002816</td>\n",
       "      <td>MASCULINO</td>\n",
       "      <td>1983-03-19</td>\n",
       "      <td>AREQUIPA</td>\n",
       "      <td>YANAQUIHUA</td>\n",
       "      <td>40608</td>\n",
       "      <td>-15.701962903, -73.0291096848</td>\n",
       "    </tr>\n",
       "    <tr>\n",
       "      <th>3</th>\n",
       "      <td>10004947</td>\n",
       "      <td>MASCULINO</td>\n",
       "      <td>1973-08-26</td>\n",
       "      <td>PUNO</td>\n",
       "      <td>YANAHUAYA</td>\n",
       "      <td>211208</td>\n",
       "      <td>-14.3311418177, -69.1270554713</td>\n",
       "    </tr>\n",
       "    <tr>\n",
       "      <th>4</th>\n",
       "      <td>10005087</td>\n",
       "      <td>FEMENINO</td>\n",
       "      <td>1975-05-26</td>\n",
       "      <td>LIMA</td>\n",
       "      <td>ZUÑIGA</td>\n",
       "      <td>150516</td>\n",
       "      <td>-12.8298665497, -76.0140629517</td>\n",
       "    </tr>\n",
       "  </tbody>\n",
       "</table>\n",
       "</div>"
      ],
      "text/plain": [
       "   dni_cliente sexo_cliente fecha_nacimiento departamento_cliente  \\\n",
       "0  10001165        FEMENINO       1998-04-30              HUANUCO   \n",
       "1  10001400       MASCULINO       1995-11-25                PASCO   \n",
       "2  10002816       MASCULINO       1983-03-19             AREQUIPA   \n",
       "3  10004947       MASCULINO       1973-08-26                 PUNO   \n",
       "4  10005087        FEMENINO       1975-05-26                 LIMA   \n",
       "\n",
       "  distrito_cliente ubigeo_cliente                punto_geografico  \n",
       "0     JACAS GRANDE         100504  -9.51519574367, -76.6684109766  \n",
       "1          PALCAZU         190304  -10.2343589434, -75.2761411859  \n",
       "2       YANAQUIHUA          40608   -15.701962903, -73.0291096848  \n",
       "3        YANAHUAYA         211208  -14.3311418177, -69.1270554713  \n",
       "4           ZUÑIGA         150516  -12.8298665497, -76.0140629517  "
      ]
     },
     "metadata": {},
     "output_type": "display_data"
    },
    {
     "name": "stdout",
     "output_type": "stream",
     "text": [
      "(50282, 7)\n"
     ]
    }
   ],
   "source": [
    "display(dim_cliente.head())\n",
    "print(dim_cliente.shape)"
   ]
  },
  {
   "cell_type": "markdown",
   "id": "a2f16530",
   "metadata": {},
   "source": [
    "### DIM_PRODUCTO"
   ]
  },
  {
   "cell_type": "code",
   "execution_count": 119,
   "id": "0049977d",
   "metadata": {},
   "outputs": [],
   "source": [
    "dim_producto=pd.read_sql_table('DIM_PRODUCTO', engine)  "
   ]
  },
  {
   "cell_type": "code",
   "execution_count": 120,
   "id": "9373e426",
   "metadata": {},
   "outputs": [
    {
     "data": {
      "text/html": [
       "<div>\n",
       "<style scoped>\n",
       "    .dataframe tbody tr th:only-of-type {\n",
       "        vertical-align: middle;\n",
       "    }\n",
       "\n",
       "    .dataframe tbody tr th {\n",
       "        vertical-align: top;\n",
       "    }\n",
       "\n",
       "    .dataframe thead th {\n",
       "        text-align: right;\n",
       "    }\n",
       "</style>\n",
       "<table border=\"1\" class=\"dataframe\">\n",
       "  <thead>\n",
       "    <tr style=\"text-align: right;\">\n",
       "      <th></th>\n",
       "      <th>cod_producto</th>\n",
       "      <th>nombre_producto</th>\n",
       "      <th>categoria_producto</th>\n",
       "      <th>subcategoria_producto</th>\n",
       "      <th>precio_unitario</th>\n",
       "    </tr>\n",
       "  </thead>\n",
       "  <tbody>\n",
       "    <tr>\n",
       "      <th>0</th>\n",
       "      <td>PROD00001</td>\n",
       "      <td>LIMPIA TAPICERÍA EN ESPUMA BINNER</td>\n",
       "      <td>ASEO DE HOGAR</td>\n",
       "      <td>ALFOMBRAS</td>\n",
       "      <td>779.50</td>\n",
       "    </tr>\n",
       "    <tr>\n",
       "      <th>1</th>\n",
       "      <td>PROD00002</td>\n",
       "      <td>LIMPIA TAPICERÍA Y ALFOMBRAS BINNER</td>\n",
       "      <td>ASEO DE HOGAR</td>\n",
       "      <td>ALFOMBRAS</td>\n",
       "      <td>699.65</td>\n",
       "    </tr>\n",
       "    <tr>\n",
       "      <th>2</th>\n",
       "      <td>PROD00003</td>\n",
       "      <td>LIMPIADOR DR. BECKMANN ALFOMBRAS 2EN1 PODER OXI</td>\n",
       "      <td>ASEO DE HOGAR</td>\n",
       "      <td>ALFOMBRAS</td>\n",
       "      <td>825.65</td>\n",
       "    </tr>\n",
       "    <tr>\n",
       "      <th>3</th>\n",
       "      <td>PROD00004</td>\n",
       "      <td>ACEITE BON AIRE ELÉCTRICO PERFUME FLORES</td>\n",
       "      <td>ASEO DE HOGAR</td>\n",
       "      <td>AMBIENTADORES</td>\n",
       "      <td>749.50</td>\n",
       "    </tr>\n",
       "    <tr>\n",
       "      <th>4</th>\n",
       "      <td>PROD00005</td>\n",
       "      <td>AMBIENTADOR AIRE VARITAS BAMBÚ BONAIRE 2 REPUE...</td>\n",
       "      <td>ASEO DE HOGAR</td>\n",
       "      <td>AMBIENTADORES</td>\n",
       "      <td>1,749.50</td>\n",
       "    </tr>\n",
       "  </tbody>\n",
       "</table>\n",
       "</div>"
      ],
      "text/plain": [
       "  cod_producto                                    nombre_producto  \\\n",
       "0    PROD00001                 LIMPIA TAPICERÍA EN ESPUMA BINNER    \n",
       "1    PROD00002               LIMPIA TAPICERÍA Y ALFOMBRAS BINNER    \n",
       "2    PROD00003   LIMPIADOR DR. BECKMANN ALFOMBRAS 2EN1 PODER OXI    \n",
       "3    PROD00004          ACEITE BON AIRE ELÉCTRICO PERFUME FLORES    \n",
       "4    PROD00005  AMBIENTADOR AIRE VARITAS BAMBÚ BONAIRE 2 REPUE...   \n",
       "\n",
       "  categoria_producto subcategoria_producto  precio_unitario  \n",
       "0      ASEO DE HOGAR             ALFOMBRAS           779.50  \n",
       "1      ASEO DE HOGAR             ALFOMBRAS           699.65  \n",
       "2      ASEO DE HOGAR             ALFOMBRAS           825.65  \n",
       "3      ASEO DE HOGAR         AMBIENTADORES           749.50  \n",
       "4      ASEO DE HOGAR         AMBIENTADORES         1,749.50  "
      ]
     },
     "metadata": {},
     "output_type": "display_data"
    },
    {
     "name": "stdout",
     "output_type": "stream",
     "text": [
      "(6624, 5)\n"
     ]
    }
   ],
   "source": [
    "display(dim_producto.head())\n",
    "print(dim_producto.shape)"
   ]
  },
  {
   "cell_type": "markdown",
   "id": "d3a1c14c",
   "metadata": {},
   "source": [
    "### DIM_VENDEDOR"
   ]
  },
  {
   "cell_type": "code",
   "execution_count": 121,
   "id": "ad13f5a3",
   "metadata": {},
   "outputs": [],
   "source": [
    "dim_vendedor=pd.read_sql_table('DIM_VENDEDOR', engine)  "
   ]
  },
  {
   "cell_type": "code",
   "execution_count": 122,
   "id": "69f75e58",
   "metadata": {},
   "outputs": [
    {
     "data": {
      "text/html": [
       "<div>\n",
       "<style scoped>\n",
       "    .dataframe tbody tr th:only-of-type {\n",
       "        vertical-align: middle;\n",
       "    }\n",
       "\n",
       "    .dataframe tbody tr th {\n",
       "        vertical-align: top;\n",
       "    }\n",
       "\n",
       "    .dataframe thead th {\n",
       "        text-align: right;\n",
       "    }\n",
       "</style>\n",
       "<table border=\"1\" class=\"dataframe\">\n",
       "  <thead>\n",
       "    <tr style=\"text-align: right;\">\n",
       "      <th></th>\n",
       "      <th>cod_vendedor</th>\n",
       "      <th>vendedor</th>\n",
       "      <th>supervisor</th>\n",
       "    </tr>\n",
       "  </thead>\n",
       "  <tbody>\n",
       "    <tr>\n",
       "      <th>0</th>\n",
       "      <td>VEND001</td>\n",
       "      <td>MARTINEZ DIAZ, RODRIGO</td>\n",
       "      <td>None</td>\n",
       "    </tr>\n",
       "    <tr>\n",
       "      <th>1</th>\n",
       "      <td>VEND002</td>\n",
       "      <td>RODRIGO ALVAREZ, RICARDO</td>\n",
       "      <td>VEND001</td>\n",
       "    </tr>\n",
       "    <tr>\n",
       "      <th>2</th>\n",
       "      <td>VEND003</td>\n",
       "      <td>ALVARO MEDINA, ANGELA</td>\n",
       "      <td>VEND001</td>\n",
       "    </tr>\n",
       "    <tr>\n",
       "      <th>3</th>\n",
       "      <td>VEND004</td>\n",
       "      <td>PALACIOS MOJICO, ALONSO</td>\n",
       "      <td>VEND001</td>\n",
       "    </tr>\n",
       "    <tr>\n",
       "      <th>4</th>\n",
       "      <td>VEND005</td>\n",
       "      <td>SUAREZ NORTEL, FABIOLA</td>\n",
       "      <td>VEND001</td>\n",
       "    </tr>\n",
       "  </tbody>\n",
       "</table>\n",
       "</div>"
      ],
      "text/plain": [
       "  cod_vendedor                  vendedor supervisor\n",
       "0      VEND001    MARTINEZ DIAZ, RODRIGO       None\n",
       "1      VEND002  RODRIGO ALVAREZ, RICARDO    VEND001\n",
       "2      VEND003     ALVARO MEDINA, ANGELA    VEND001\n",
       "3      VEND004   PALACIOS MOJICO, ALONSO    VEND001\n",
       "4      VEND005    SUAREZ NORTEL, FABIOLA    VEND001"
      ]
     },
     "metadata": {},
     "output_type": "display_data"
    },
    {
     "name": "stdout",
     "output_type": "stream",
     "text": [
      "(56, 3)\n"
     ]
    }
   ],
   "source": [
    "display(dim_vendedor.head())\n",
    "print(dim_vendedor.shape)"
   ]
  },
  {
   "cell_type": "markdown",
   "id": "9d4483f8",
   "metadata": {},
   "source": [
    "### FACT_VENTA"
   ]
  },
  {
   "cell_type": "code",
   "execution_count": 123,
   "id": "ed01184d",
   "metadata": {},
   "outputs": [],
   "source": [
    "fact_venta=pd.read_sql_table('FACT_VENTA', engine)  \n",
    "fact_venta['cantidad']=fact_venta['cantidad'].astype('Int64')"
   ]
  },
  {
   "cell_type": "code",
   "execution_count": 124,
   "id": "11d7c8a1",
   "metadata": {},
   "outputs": [
    {
     "data": {
      "text/html": [
       "<div>\n",
       "<style scoped>\n",
       "    .dataframe tbody tr th:only-of-type {\n",
       "        vertical-align: middle;\n",
       "    }\n",
       "\n",
       "    .dataframe tbody tr th {\n",
       "        vertical-align: top;\n",
       "    }\n",
       "\n",
       "    .dataframe thead th {\n",
       "        text-align: right;\n",
       "    }\n",
       "</style>\n",
       "<table border=\"1\" class=\"dataframe\">\n",
       "  <thead>\n",
       "    <tr style=\"text-align: right;\">\n",
       "      <th></th>\n",
       "      <th>cod_documento</th>\n",
       "      <th>dni_cliente</th>\n",
       "      <th>vendedor</th>\n",
       "      <th>nombre_tipo_documento</th>\n",
       "      <th>estado</th>\n",
       "      <th>fecha_venta</th>\n",
       "      <th>cod_producto</th>\n",
       "      <th>precio_unitario</th>\n",
       "      <th>cantidad</th>\n",
       "      <th>cod_banco</th>\n",
       "    </tr>\n",
       "  </thead>\n",
       "  <tbody>\n",
       "    <tr>\n",
       "      <th>0</th>\n",
       "      <td>B000038653</td>\n",
       "      <td>10001165</td>\n",
       "      <td>RONDON SANDOVAL, ELIZABETH</td>\n",
       "      <td>BOLETA</td>\n",
       "      <td>VENDIDO</td>\n",
       "      <td>2020-03-16</td>\n",
       "      <td>PROD03123</td>\n",
       "      <td>249.50</td>\n",
       "      <td>9</td>\n",
       "      <td>None</td>\n",
       "    </tr>\n",
       "    <tr>\n",
       "      <th>1</th>\n",
       "      <td>B000038653</td>\n",
       "      <td>10001165</td>\n",
       "      <td>RONDON SANDOVAL, ELIZABETH</td>\n",
       "      <td>BOLETA</td>\n",
       "      <td>VENDIDO</td>\n",
       "      <td>2020-03-16</td>\n",
       "      <td>PROD01504</td>\n",
       "      <td>524.65</td>\n",
       "      <td>11</td>\n",
       "      <td>None</td>\n",
       "    </tr>\n",
       "    <tr>\n",
       "      <th>2</th>\n",
       "      <td>B000002024</td>\n",
       "      <td>10001400</td>\n",
       "      <td>SOLIS VEGA, BRITANY</td>\n",
       "      <td>BOLETA</td>\n",
       "      <td>VENDIDO</td>\n",
       "      <td>2018-02-13</td>\n",
       "      <td>PROD05231</td>\n",
       "      <td>363.65</td>\n",
       "      <td>10</td>\n",
       "      <td>None</td>\n",
       "    </tr>\n",
       "    <tr>\n",
       "      <th>3</th>\n",
       "      <td>B000002024</td>\n",
       "      <td>10001400</td>\n",
       "      <td>SOLIS VEGA, BRITANY</td>\n",
       "      <td>BOLETA</td>\n",
       "      <td>VENDIDO</td>\n",
       "      <td>2018-02-13</td>\n",
       "      <td>PROD03565</td>\n",
       "      <td>519.50</td>\n",
       "      <td>10</td>\n",
       "      <td>None</td>\n",
       "    </tr>\n",
       "    <tr>\n",
       "      <th>4</th>\n",
       "      <td>B000002024</td>\n",
       "      <td>10001400</td>\n",
       "      <td>SOLIS VEGA, BRITANY</td>\n",
       "      <td>BOLETA</td>\n",
       "      <td>VENDIDO</td>\n",
       "      <td>2018-02-13</td>\n",
       "      <td>PROD04384</td>\n",
       "      <td>209.65</td>\n",
       "      <td>13</td>\n",
       "      <td>None</td>\n",
       "    </tr>\n",
       "  </tbody>\n",
       "</table>\n",
       "</div>"
      ],
      "text/plain": [
       "  cod_documento  dni_cliente                    vendedor  \\\n",
       "0    B000038653  10001165     RONDON SANDOVAL, ELIZABETH   \n",
       "1    B000038653  10001165     RONDON SANDOVAL, ELIZABETH   \n",
       "2    B000002024  10001400            SOLIS VEGA, BRITANY   \n",
       "3    B000002024  10001400            SOLIS VEGA, BRITANY   \n",
       "4    B000002024  10001400            SOLIS VEGA, BRITANY   \n",
       "\n",
       "  nombre_tipo_documento   estado fecha_venta cod_producto  precio_unitario  \\\n",
       "0                BOLETA  VENDIDO  2020-03-16    PROD03123           249.50   \n",
       "1                BOLETA  VENDIDO  2020-03-16    PROD01504           524.65   \n",
       "2                BOLETA  VENDIDO  2018-02-13    PROD05231           363.65   \n",
       "3                BOLETA  VENDIDO  2018-02-13    PROD03565           519.50   \n",
       "4                BOLETA  VENDIDO  2018-02-13    PROD04384           209.65   \n",
       "\n",
       "   cantidad cod_banco  \n",
       "0         9      None  \n",
       "1        11      None  \n",
       "2        10      None  \n",
       "3        10      None  \n",
       "4        13      None  "
      ]
     },
     "metadata": {},
     "output_type": "display_data"
    },
    {
     "name": "stdout",
     "output_type": "stream",
     "text": [
      "(434161, 10)\n"
     ]
    }
   ],
   "source": [
    "display(fact_venta.head())\n",
    "print(fact_venta.shape)"
   ]
  },
  {
   "cell_type": "markdown",
   "id": "77e732f6",
   "metadata": {},
   "source": [
    "### 1. Total de ventas por periodo"
   ]
  },
  {
   "cell_type": "code",
   "execution_count": 75,
   "id": "d78568fa",
   "metadata": {},
   "outputs": [],
   "source": [
    "# Crear una copia de fact_venta\n",
    "df1=fact_venta.copy()\n",
    "\n",
    "# 1.Añadir columna Total_Bruto \n",
    "# 2.Añadir columna Total_Neto\n",
    "df1['total_bruto'] = df1['precio_unitario']*df1['cantidad']\n",
    "df1['total_neto'] = df1['nombre_tipo_documento'].apply(lambda x: 1 if x == \"BOLETA\" else 1.18)*df1['total_bruto']\n",
    "\n",
    "# 1.Agrupar la suma de Total_Bruto y Total_Neto por fecha_venta\n",
    "# 2.Eliminar el indice creado en el punto 1\n",
    "df1_agrupado=df1.groupby(df1['fecha_venta'].dt.to_period(\"M\"))[['total_bruto','total_neto']].sum()\\\n",
    "                .reset_index(level=[0])\n",
    "\n",
    "# Cambiamos de formato a la columna fecha_venta de (Año y Mes) a (Año, Mes y Día)\n",
    "df1_agrupado['fecha_venta'] = df1_agrupado['fecha_venta'].astype(str)\n",
    "df1_agrupado['fecha_venta'] = pd.to_datetime(df1_agrupado['fecha_venta'])\n",
    "\n",
    "# Cambiamos nombre de las columnas\n",
    "df1_agrupado.rename(columns={\"fecha_venta\": \"periodo\"},inplace=True)"
   ]
  },
  {
   "cell_type": "code",
   "execution_count": 76,
   "id": "e8a52515",
   "metadata": {},
   "outputs": [
    {
     "data": {
      "text/html": [
       "<div>\n",
       "<style scoped>\n",
       "    .dataframe tbody tr th:only-of-type {\n",
       "        vertical-align: middle;\n",
       "    }\n",
       "\n",
       "    .dataframe tbody tr th {\n",
       "        vertical-align: top;\n",
       "    }\n",
       "\n",
       "    .dataframe thead th {\n",
       "        text-align: right;\n",
       "    }\n",
       "</style>\n",
       "<table border=\"1\" class=\"dataframe\">\n",
       "  <thead>\n",
       "    <tr style=\"text-align: right;\">\n",
       "      <th></th>\n",
       "      <th>periodo</th>\n",
       "      <th>total_bruto</th>\n",
       "      <th>total_neto</th>\n",
       "    </tr>\n",
       "  </thead>\n",
       "  <tbody>\n",
       "    <tr>\n",
       "      <th>0</th>\n",
       "      <td>2018-01-01</td>\n",
       "      <td>26,256,892.70</td>\n",
       "      <td>26,256,892.70</td>\n",
       "    </tr>\n",
       "    <tr>\n",
       "      <th>1</th>\n",
       "      <td>2018-02-01</td>\n",
       "      <td>20,028,813.15</td>\n",
       "      <td>20,028,813.15</td>\n",
       "    </tr>\n",
       "    <tr>\n",
       "      <th>2</th>\n",
       "      <td>2018-03-01</td>\n",
       "      <td>24,861,858.10</td>\n",
       "      <td>24,861,858.10</td>\n",
       "    </tr>\n",
       "    <tr>\n",
       "      <th>3</th>\n",
       "      <td>2018-04-01</td>\n",
       "      <td>23,111,322.95</td>\n",
       "      <td>23,111,322.95</td>\n",
       "    </tr>\n",
       "    <tr>\n",
       "      <th>4</th>\n",
       "      <td>2018-05-01</td>\n",
       "      <td>24,853,712.65</td>\n",
       "      <td>24,853,712.65</td>\n",
       "    </tr>\n",
       "  </tbody>\n",
       "</table>\n",
       "</div>"
      ],
      "text/plain": [
       "     periodo   total_bruto    total_neto\n",
       "0 2018-01-01 26,256,892.70 26,256,892.70\n",
       "1 2018-02-01 20,028,813.15 20,028,813.15\n",
       "2 2018-03-01 24,861,858.10 24,861,858.10\n",
       "3 2018-04-01 23,111,322.95 23,111,322.95\n",
       "4 2018-05-01 24,853,712.65 24,853,712.65"
      ]
     },
     "metadata": {},
     "output_type": "display_data"
    },
    {
     "name": "stdout",
     "output_type": "stream",
     "text": [
      "(59, 3)\n"
     ]
    }
   ],
   "source": [
    "display(df1_agrupado.head())\n",
    "print(df1_agrupado.shape)"
   ]
  },
  {
   "cell_type": "code",
   "execution_count": 77,
   "id": "5afbe2ee",
   "metadata": {},
   "outputs": [
    {
     "name": "stderr",
     "output_type": "stream",
     "text": [
      "100%|███████████████████████████████████████████████████████████████████████████████████| 1/1 [00:00<00:00, 499.50it/s]\n"
     ]
    }
   ],
   "source": [
    "# Definir tabla en Big Query\n",
    "target_table = 'dwh_queries.Total_Ventas'\n",
    "project_id = 'sien-project'\n",
    "df1_agrupado.to_gbq(target_table, \n",
    "                    project_id,\n",
    "                    if_exists='replace',\n",
    "                    credentials=credentials)"
   ]
  },
  {
   "cell_type": "markdown",
   "id": "f101cab3",
   "metadata": {},
   "source": [
    "### 2. Top N productos más vendidos (categoría, subcategoría)"
   ]
  },
  {
   "cell_type": "code",
   "execution_count": 86,
   "id": "a73ce9d8",
   "metadata": {},
   "outputs": [],
   "source": [
    "# Crear una copia de fact_venta\n",
    "df2=fact_venta.copy()\n",
    "\n",
    "# 1.Agrupar la suma de cantidad por fecha_venta y cod_producto\n",
    "# 2.Ordenar fecha_venta,cantidad de forma ascendente, descendente respectivamente\n",
    "# 3.Tomar los 10 primeros valores segun fecha_venta\n",
    "# 4.Eliminar el indice creado en el punto 1\n",
    "# 5.Hacer un left join con cod_producto\n",
    "df2_query=df2.groupby([df2['fecha_venta'].dt.to_period(\"M\"),'cod_producto'])[['cantidad']].sum()\\\n",
    "            .sort_values(by=['fecha_venta','cantidad'],ascending=[True,False])\\\n",
    "            .groupby(['fecha_venta']).head(10)\\\n",
    "            .reset_index(level=[0,1])\\\n",
    "            .merge(dim_producto,how='left',on='cod_producto')\n",
    "\n",
    "# Cambiamos de formato a la columna fecha_venta de (Año y Mes) a (Año, Mes y Día)\n",
    "df2_query['fecha_venta'] = df2_query['fecha_venta'].astype(str)\n",
    "df2_query['fecha_venta'] = pd.to_datetime(df2_query['fecha_venta'])\n",
    "\n",
    "# Cambiamos nombre de las columnas\n",
    "df2_query.rename(columns={\"fecha_venta\": \"periodo\"},inplace=True)"
   ]
  },
  {
   "cell_type": "code",
   "execution_count": 87,
   "id": "e94e0935",
   "metadata": {},
   "outputs": [
    {
     "data": {
      "text/html": [
       "<div>\n",
       "<style scoped>\n",
       "    .dataframe tbody tr th:only-of-type {\n",
       "        vertical-align: middle;\n",
       "    }\n",
       "\n",
       "    .dataframe tbody tr th {\n",
       "        vertical-align: top;\n",
       "    }\n",
       "\n",
       "    .dataframe thead th {\n",
       "        text-align: right;\n",
       "    }\n",
       "</style>\n",
       "<table border=\"1\" class=\"dataframe\">\n",
       "  <thead>\n",
       "    <tr style=\"text-align: right;\">\n",
       "      <th></th>\n",
       "      <th>periodo</th>\n",
       "      <th>cod_producto</th>\n",
       "      <th>cantidad</th>\n",
       "      <th>nombre_producto</th>\n",
       "      <th>categoria_producto</th>\n",
       "      <th>subcategoria_producto</th>\n",
       "      <th>precio_unitario</th>\n",
       "    </tr>\n",
       "  </thead>\n",
       "  <tbody>\n",
       "    <tr>\n",
       "      <th>0</th>\n",
       "      <td>2018-01-01</td>\n",
       "      <td>PROD01212</td>\n",
       "      <td>55</td>\n",
       "      <td>SOMBRAS SÚPER FANTASTIC TRIO TONO 01 PRIMAVERA...</td>\n",
       "      <td>BELLEZA</td>\n",
       "      <td>MAQUILLAJE</td>\n",
       "      <td>251.65</td>\n",
       "    </tr>\n",
       "    <tr>\n",
       "      <th>1</th>\n",
       "      <td>2018-01-01</td>\n",
       "      <td>PROD05624</td>\n",
       "      <td>53</td>\n",
       "      <td>CERVEZA RUBIA ERDINGER BOTELLA</td>\n",
       "      <td>VINOS Y LICORES</td>\n",
       "      <td>CERVEZAS</td>\n",
       "      <td>699.50</td>\n",
       "    </tr>\n",
       "    <tr>\n",
       "      <th>2</th>\n",
       "      <td>2018-01-01</td>\n",
       "      <td>PROD02715</td>\n",
       "      <td>51</td>\n",
       "      <td>EMPANIZADOR DE ARROZ NNOVA RICE</td>\n",
       "      <td>DESPENSA</td>\n",
       "      <td>HARINAS Y MEZCLAS PARA PREPARAR</td>\n",
       "      <td>199.50</td>\n",
       "    </tr>\n",
       "    <tr>\n",
       "      <th>3</th>\n",
       "      <td>2018-01-01</td>\n",
       "      <td>PROD03750</td>\n",
       "      <td>43</td>\n",
       "      <td>ALPINETTE CEREZA</td>\n",
       "      <td>LÁCTEOS, HUEVOS Y REFRIGERADOS</td>\n",
       "      <td>POSTRES REFRIGERADOS</td>\n",
       "      <td>134.50</td>\n",
       "    </tr>\n",
       "    <tr>\n",
       "      <th>4</th>\n",
       "      <td>2018-01-01</td>\n",
       "      <td>PROD04121</td>\n",
       "      <td>43</td>\n",
       "      <td>CEPILLO RESTREGÓN MULTIUSOS ETERNA</td>\n",
       "      <td>LIMPIEZA DE COCINA</td>\n",
       "      <td>BALDES, ESCOBAS Y ACCESORIOS</td>\n",
       "      <td>214.50</td>\n",
       "    </tr>\n",
       "  </tbody>\n",
       "</table>\n",
       "</div>"
      ],
      "text/plain": [
       "     periodo cod_producto  cantidad  \\\n",
       "0 2018-01-01    PROD01212        55   \n",
       "1 2018-01-01    PROD05624        53   \n",
       "2 2018-01-01    PROD02715        51   \n",
       "3 2018-01-01    PROD03750        43   \n",
       "4 2018-01-01    PROD04121        43   \n",
       "\n",
       "                                     nombre_producto  \\\n",
       "0  SOMBRAS SÚPER FANTASTIC TRIO TONO 01 PRIMAVERA...   \n",
       "1                    CERVEZA RUBIA ERDINGER BOTELLA    \n",
       "2                   EMPANIZADOR DE ARROZ NNOVA RICE    \n",
       "3                                  ALPINETTE CEREZA    \n",
       "4                 CEPILLO RESTREGÓN MULTIUSOS ETERNA   \n",
       "\n",
       "               categoria_producto            subcategoria_producto  \\\n",
       "0                         BELLEZA                       MAQUILLAJE   \n",
       "1                 VINOS Y LICORES                         CERVEZAS   \n",
       "2                        DESPENSA  HARINAS Y MEZCLAS PARA PREPARAR   \n",
       "3  LÁCTEOS, HUEVOS Y REFRIGERADOS             POSTRES REFRIGERADOS   \n",
       "4              LIMPIEZA DE COCINA     BALDES, ESCOBAS Y ACCESORIOS   \n",
       "\n",
       "   precio_unitario  \n",
       "0           251.65  \n",
       "1           699.50  \n",
       "2           199.50  \n",
       "3           134.50  \n",
       "4           214.50  "
      ]
     },
     "metadata": {},
     "output_type": "display_data"
    },
    {
     "name": "stdout",
     "output_type": "stream",
     "text": [
      "(590, 7)\n"
     ]
    }
   ],
   "source": [
    "display(df2_query.head())\n",
    "print(df2_query.shape)"
   ]
  },
  {
   "cell_type": "code",
   "execution_count": 90,
   "id": "4902c97a",
   "metadata": {},
   "outputs": [
    {
     "name": "stderr",
     "output_type": "stream",
     "text": [
      "100%|████████████████████████████████████████████████████████████████████████████████████████████| 1/1 [00:00<?, ?it/s]\n"
     ]
    }
   ],
   "source": [
    "# Definir tabla en Big Query\n",
    "target_table = 'dwh_queries.Top_Productos'\n",
    "project_id = 'sien-project'\n",
    "df2_query.to_gbq(target_table, \n",
    "                project_id,\n",
    "                if_exists='replace',\n",
    "                credentials=credentials)"
   ]
  },
  {
   "cell_type": "markdown",
   "id": "625bf60e",
   "metadata": {},
   "source": [
    "### 3. Top N vendedores más destacados"
   ]
  },
  {
   "cell_type": "code",
   "execution_count": 65,
   "id": "b66dcb3d",
   "metadata": {},
   "outputs": [],
   "source": [
    "# Crear una copia de fact_venta\n",
    "df3=fact_venta.copy()\n",
    "\n",
    "# Añadir columna Total_Bruto \n",
    "df3['total_bruto']=df3['precio_unitario']*df3['cantidad']\n",
    "\n",
    "# 1.Agrupar la suma de total_bruto por fecha_venta\n",
    "# 2.Ordenar fecha_venta,total_bruto de forma ascendente, descendente respectivamente\n",
    "# 3.Tomar los 10 primeros valores segun fecha_venta\n",
    "# 4.Eliminar el indice creado en el punto 1\n",
    "# 5.Hacer un left join con dim_vendedor\n",
    "df3_query=df3.groupby([df3['fecha_venta'].dt.to_period(\"M\"),'vendedor'])[['total_bruto']].sum()\\\n",
    "            .sort_values(by=['fecha_venta','total_bruto'],ascending=[True,False])\\\n",
    "            .groupby(['fecha_venta']).head(10)\\\n",
    "            .reset_index(level=[0,1])\\\n",
    "            .merge(dim_vendedor,how='left',on='vendedor')\n",
    "\n",
    "# Cambiamos de formato a la columna fecha_venta de (Año y Mes) a (Año, Mes y Día)\n",
    "df3_query['fecha_venta'] = df3_query['fecha_venta'].astype(str)\n",
    "df3_query['fecha_venta'] = pd.to_datetime(df3_query['fecha_venta'])\n",
    "# Añadimos columna si es supervisor\n",
    "df3_query['is_supervisor']=df3_query[['supervisor']].apply(lambda x: 'Supervisor' if x['supervisor']==None else 'Vendedor', axis=1)\n",
    "# Añadimos columna 'pregunta' para unir con la query 4\n",
    "df3_query['pregunta']='Query_3'\n",
    "\n",
    "# Cambiamos nombre de las columnas\n",
    "df3_query.rename(columns={\"fecha_venta\": \"periodo\"},inplace=True)\n"
   ]
  },
  {
   "cell_type": "code",
   "execution_count": 66,
   "id": "177b3104",
   "metadata": {},
   "outputs": [
    {
     "data": {
      "text/html": [
       "<div>\n",
       "<style scoped>\n",
       "    .dataframe tbody tr th:only-of-type {\n",
       "        vertical-align: middle;\n",
       "    }\n",
       "\n",
       "    .dataframe tbody tr th {\n",
       "        vertical-align: top;\n",
       "    }\n",
       "\n",
       "    .dataframe thead th {\n",
       "        text-align: right;\n",
       "    }\n",
       "</style>\n",
       "<table border=\"1\" class=\"dataframe\">\n",
       "  <thead>\n",
       "    <tr style=\"text-align: right;\">\n",
       "      <th></th>\n",
       "      <th>periodo</th>\n",
       "      <th>vendedor</th>\n",
       "      <th>total_bruto</th>\n",
       "      <th>cod_vendedor</th>\n",
       "      <th>supervisor</th>\n",
       "      <th>is_supervisor</th>\n",
       "      <th>pregunta</th>\n",
       "    </tr>\n",
       "  </thead>\n",
       "  <tbody>\n",
       "    <tr>\n",
       "      <th>0</th>\n",
       "      <td>2018-01-01</td>\n",
       "      <td>ZAPATA LOYO, NICOLE</td>\n",
       "      <td>827,214.30</td>\n",
       "      <td>VEND051</td>\n",
       "      <td>VEND049</td>\n",
       "      <td>Vendedor</td>\n",
       "      <td>Query_3</td>\n",
       "    </tr>\n",
       "    <tr>\n",
       "      <th>1</th>\n",
       "      <td>2018-01-01</td>\n",
       "      <td>VELARDO ALVARADO, MAITE</td>\n",
       "      <td>815,223.60</td>\n",
       "      <td>VEND010</td>\n",
       "      <td>VEND009</td>\n",
       "      <td>Vendedor</td>\n",
       "      <td>Query_3</td>\n",
       "    </tr>\n",
       "    <tr>\n",
       "      <th>2</th>\n",
       "      <td>2018-01-01</td>\n",
       "      <td>ALCOCER INGUNZA, LIZETH</td>\n",
       "      <td>763,384.90</td>\n",
       "      <td>VEND040</td>\n",
       "      <td>VEND033</td>\n",
       "      <td>Vendedor</td>\n",
       "      <td>Query_3</td>\n",
       "    </tr>\n",
       "    <tr>\n",
       "      <th>3</th>\n",
       "      <td>2018-01-01</td>\n",
       "      <td>GUERRERO CIEZA, JACKELINE</td>\n",
       "      <td>723,392.65</td>\n",
       "      <td>VEND048</td>\n",
       "      <td>VEND041</td>\n",
       "      <td>Vendedor</td>\n",
       "      <td>Query_3</td>\n",
       "    </tr>\n",
       "    <tr>\n",
       "      <th>4</th>\n",
       "      <td>2018-01-01</td>\n",
       "      <td>POMA CANTO, MARCOS</td>\n",
       "      <td>681,805.05</td>\n",
       "      <td>VEND031</td>\n",
       "      <td>VEND025</td>\n",
       "      <td>Vendedor</td>\n",
       "      <td>Query_3</td>\n",
       "    </tr>\n",
       "  </tbody>\n",
       "</table>\n",
       "</div>"
      ],
      "text/plain": [
       "     periodo                   vendedor  total_bruto cod_vendedor supervisor  \\\n",
       "0 2018-01-01        ZAPATA LOYO, NICOLE   827,214.30      VEND051    VEND049   \n",
       "1 2018-01-01    VELARDO ALVARADO, MAITE   815,223.60      VEND010    VEND009   \n",
       "2 2018-01-01    ALCOCER INGUNZA, LIZETH   763,384.90      VEND040    VEND033   \n",
       "3 2018-01-01  GUERRERO CIEZA, JACKELINE   723,392.65      VEND048    VEND041   \n",
       "4 2018-01-01         POMA CANTO, MARCOS   681,805.05      VEND031    VEND025   \n",
       "\n",
       "  is_supervisor pregunta  \n",
       "0      Vendedor  Query_3  \n",
       "1      Vendedor  Query_3  \n",
       "2      Vendedor  Query_3  \n",
       "3      Vendedor  Query_3  \n",
       "4      Vendedor  Query_3  "
      ]
     },
     "metadata": {},
     "output_type": "display_data"
    },
    {
     "name": "stdout",
     "output_type": "stream",
     "text": [
      "(590, 7)\n"
     ]
    }
   ],
   "source": [
    "display(df3_query.head())\n",
    "print(df3_query.shape)"
   ]
  },
  {
   "cell_type": "markdown",
   "id": "38b07125",
   "metadata": {},
   "source": [
    "### 4. Top supervisores con baja efectividad"
   ]
  },
  {
   "cell_type": "code",
   "execution_count": 80,
   "id": "c1fe09e2",
   "metadata": {},
   "outputs": [],
   "source": [
    "# Crear una copia de fact_venta\n",
    "df4=fact_venta.copy()\n",
    "\n",
    "# Añadir columna total_bruto \n",
    "df4['total_bruto']=df4['precio_unitario']*df4['cantidad']\n",
    "\n",
    "# 1.Agrupar la suma de total_bruto por fecha_venta y vendedor\n",
    "# 2.Ordenar fecha_venta,total_bruto de forma ascendente, descendente respectivamente\n",
    "# 3.Eliminar el indice creado en el punto 1\n",
    "df4_query=df4.groupby([df4['fecha_venta'].dt.to_period(\"M\"),'vendedor'])[['total_bruto']].sum()\\\n",
    "            .sort_values(by=['fecha_venta','total_bruto'],ascending=[True,False])\\\n",
    "            .reset_index(level=[0,1])\n",
    "\n",
    "# Crear una copia de dim_vendedor\n",
    "df4_vendedor=dim_vendedor.copy()\n",
    "# Modificar columna supervisor para que los valores nulos sean reemplazados por el valor de cod_vendedor\n",
    "df4_vendedor['supervisor']=df4_vendedor[['supervisor','cod_vendedor']]\\\n",
    "                                .apply(lambda x: x['cod_vendedor'] if x['supervisor']==None else x['supervisor'],axis=1)\n",
    "\n",
    "# 1.Hacer un left join de df4_query con df4_vendedor\n",
    "# 2.Ordenar fecha_venta,cod_vendedor de forma ascendente, ascendente respectivamente\n",
    "# 3.Eliminar el indice al ordenar en el punto 2\n",
    "df_4_p=df4_query.merge(df4_vendedor,how='left',on='vendedor')\\\n",
    "        .sort_values(by=['fecha_venta','cod_vendedor'],ascending=[True,True])\\\n",
    "        .reset_index(drop=True)\n",
    "\n",
    "# 1.Agrupar la suma de total_bruto por fecha_venta y supervisor\n",
    "# 2.Ordenar fecha_venta,total_bruto de forma ascendente, ascendente respectivamente\n",
    "# 3.Tomar los 5 primeros valores segun fecha_venta\n",
    "# 4.Eliminar el indice creado en el punto 1\n",
    "# 5.Cambiar nombre de las columnas\n",
    "# 6.Hacer un left join con df4_vendedor\n",
    "df_4_min=df_4_p.groupby(['fecha_venta','supervisor'])[['total_bruto']].sum()\\\n",
    "            .sort_values(by=['fecha_venta','total_bruto'],ascending=[True,True])\\\n",
    "            .groupby(['fecha_venta']).head(7)\\\n",
    "            .reset_index(level=[0,1])\\\n",
    "            .rename(columns={\"supervisor\":\"cod_vendedor\"})\\\n",
    "            .merge(df4_vendedor,how='left',on='cod_vendedor')\n",
    "\n",
    "# Cambiamos de formato a la columna fecha_venta de (Año y Mes) a (Año, Mes y Día)\n",
    "df_4_min['fecha_venta'] = df_4_min['fecha_venta'].astype(str)\n",
    "df_4_min['fecha_venta'] = pd.to_datetime(df_4_min['fecha_venta'])\n",
    "\n",
    "# Cambiamos nombre de las columnas\n",
    "df_4_min.rename(columns={\"fecha_venta\": \"periodo\"},inplace=True)\n",
    "\n",
    "# Añadimos columna 'pregunta' para unir con la query 3\n",
    "df_4_min['pregunta']='Query_4'\n",
    "# Añadimos columna is_supervvisor\n",
    "df_4_min['is_supervisor']='Supervisor'"
   ]
  },
  {
   "cell_type": "code",
   "execution_count": 82,
   "id": "ed09f3b9",
   "metadata": {},
   "outputs": [
    {
     "data": {
      "text/html": [
       "<div>\n",
       "<style scoped>\n",
       "    .dataframe tbody tr th:only-of-type {\n",
       "        vertical-align: middle;\n",
       "    }\n",
       "\n",
       "    .dataframe tbody tr th {\n",
       "        vertical-align: top;\n",
       "    }\n",
       "\n",
       "    .dataframe thead th {\n",
       "        text-align: right;\n",
       "    }\n",
       "</style>\n",
       "<table border=\"1\" class=\"dataframe\">\n",
       "  <thead>\n",
       "    <tr style=\"text-align: right;\">\n",
       "      <th></th>\n",
       "      <th>periodo</th>\n",
       "      <th>vendedor</th>\n",
       "      <th>total_bruto</th>\n",
       "      <th>cod_vendedor</th>\n",
       "      <th>supervisor</th>\n",
       "      <th>is_supervisor</th>\n",
       "      <th>pregunta</th>\n",
       "    </tr>\n",
       "  </thead>\n",
       "  <tbody>\n",
       "    <tr>\n",
       "      <th>0</th>\n",
       "      <td>2018-01-01</td>\n",
       "      <td>ZAPATA LOYO, NICOLE</td>\n",
       "      <td>827,214.30</td>\n",
       "      <td>VEND051</td>\n",
       "      <td>VEND049</td>\n",
       "      <td>Vendedor</td>\n",
       "      <td>Query_3</td>\n",
       "    </tr>\n",
       "    <tr>\n",
       "      <th>1</th>\n",
       "      <td>2018-01-01</td>\n",
       "      <td>VELARDO ALVARADO, MAITE</td>\n",
       "      <td>815,223.60</td>\n",
       "      <td>VEND010</td>\n",
       "      <td>VEND009</td>\n",
       "      <td>Vendedor</td>\n",
       "      <td>Query_3</td>\n",
       "    </tr>\n",
       "    <tr>\n",
       "      <th>2</th>\n",
       "      <td>2018-01-01</td>\n",
       "      <td>ALCOCER INGUNZA, LIZETH</td>\n",
       "      <td>763,384.90</td>\n",
       "      <td>VEND040</td>\n",
       "      <td>VEND033</td>\n",
       "      <td>Vendedor</td>\n",
       "      <td>Query_3</td>\n",
       "    </tr>\n",
       "    <tr>\n",
       "      <th>3</th>\n",
       "      <td>2018-01-01</td>\n",
       "      <td>GUERRERO CIEZA, JACKELINE</td>\n",
       "      <td>723,392.65</td>\n",
       "      <td>VEND048</td>\n",
       "      <td>VEND041</td>\n",
       "      <td>Vendedor</td>\n",
       "      <td>Query_3</td>\n",
       "    </tr>\n",
       "    <tr>\n",
       "      <th>4</th>\n",
       "      <td>2018-01-01</td>\n",
       "      <td>POMA CANTO, MARCOS</td>\n",
       "      <td>681,805.05</td>\n",
       "      <td>VEND031</td>\n",
       "      <td>VEND025</td>\n",
       "      <td>Vendedor</td>\n",
       "      <td>Query_3</td>\n",
       "    </tr>\n",
       "  </tbody>\n",
       "</table>\n",
       "</div>"
      ],
      "text/plain": [
       "     periodo                   vendedor  total_bruto cod_vendedor supervisor  \\\n",
       "0 2018-01-01        ZAPATA LOYO, NICOLE   827,214.30      VEND051    VEND049   \n",
       "1 2018-01-01    VELARDO ALVARADO, MAITE   815,223.60      VEND010    VEND009   \n",
       "2 2018-01-01    ALCOCER INGUNZA, LIZETH   763,384.90      VEND040    VEND033   \n",
       "3 2018-01-01  GUERRERO CIEZA, JACKELINE   723,392.65      VEND048    VEND041   \n",
       "4 2018-01-01         POMA CANTO, MARCOS   681,805.05      VEND031    VEND025   \n",
       "\n",
       "  is_supervisor pregunta  \n",
       "0      Vendedor  Query_3  \n",
       "1      Vendedor  Query_3  \n",
       "2      Vendedor  Query_3  \n",
       "3      Vendedor  Query_3  \n",
       "4      Vendedor  Query_3  "
      ]
     },
     "metadata": {},
     "output_type": "display_data"
    },
    {
     "name": "stdout",
     "output_type": "stream",
     "text": [
      "(1003, 7)\n"
     ]
    }
   ],
   "source": [
    "# Union query 3 con query 4\n",
    "df_union=pd.concat([df3_query, df_4_min])\n",
    "\n",
    "display(df_union.head())\n",
    "print(df_union.shape)"
   ]
  },
  {
   "cell_type": "code",
   "execution_count": 83,
   "id": "84a4ea6f",
   "metadata": {},
   "outputs": [
    {
     "name": "stderr",
     "output_type": "stream",
     "text": [
      "100%|████████████████████████████████████████████████████████████████████████████████████████████| 1/1 [00:00<?, ?it/s]\n"
     ]
    }
   ],
   "source": [
    "# Definir tabla en Big Query\n",
    "target_table = 'dwh_queries.Top_Vendedores_Bottom_Supervisores'\n",
    "project_id = 'sien-project'\n",
    "df_union.to_gbq(target_table, \n",
    "                project_id,\n",
    "                if_exists='replace',\n",
    "                credentials=credentials)"
   ]
  },
  {
   "cell_type": "markdown",
   "id": "6416e32c",
   "metadata": {},
   "source": [
    "### 5. Top N zonas con mayor venta (Departamento y Distrito)"
   ]
  },
  {
   "cell_type": "code",
   "execution_count": 108,
   "id": "bcb4ed3a",
   "metadata": {},
   "outputs": [],
   "source": [
    "# Crear una copia de fact_venta\n",
    "df5=fact_venta.copy()\\\n",
    "    .merge(dim_cliente, how='left',on='dni_cliente' )\n",
    "\n",
    "# Añadir columna total_bruto \n",
    "df5['total_bruto']=df5['precio_unitario']*df5['cantidad']\n",
    "\n",
    "# 1.Agrupar la suma de total_bruto por fecha_venta,departamento_cliente,ubigeo_cliente y punto_geografico\n",
    "# 2.Ordenar fecha_venta,total_bruto de forma ascendente, descendente respectivamente\n",
    "# 3.Tomar los 10 primeros valores segun fecha_venta\n",
    "# 4.Eliminar el indice creado en el punto 1\n",
    "df5_v=df5.groupby([df5['fecha_venta'].dt.to_period(\"M\"),'departamento_cliente','distrito_cliente','ubigeo_cliente',\n",
    "                     'punto_geografico'])[['total_bruto']].sum()\\\n",
    "        .sort_values(by=['fecha_venta','total_bruto'],ascending=[True,False])\\\n",
    "        .groupby(['fecha_venta']).head(10)\\\n",
    "        .reset_index(level=[0,1,2,3,4])\n",
    "\n",
    "# Cambiamos de formato a la columna fecha_venta de (Año y Mes) a (Año, Mes y Día)\n",
    "df5_v['fecha_venta'] = df5_v['fecha_venta'].astype(str)\n",
    "df5_v['fecha_venta'] = pd.to_datetime(df5_v['fecha_venta'])\n",
    "\n",
    "# Cambiamos nombre de las columnas\n",
    "df5_v.rename(columns={\"fecha_venta\": \"periodo\",\"departamento_cliente\":\"departamento\",\n",
    "                     \"distrito_cliente\":\"distrito\",\"ubigeo_cliente\":\"cliente\"},inplace=True)"
   ]
  },
  {
   "cell_type": "code",
   "execution_count": 109,
   "id": "1a341c28",
   "metadata": {},
   "outputs": [
    {
     "data": {
      "text/html": [
       "<div>\n",
       "<style scoped>\n",
       "    .dataframe tbody tr th:only-of-type {\n",
       "        vertical-align: middle;\n",
       "    }\n",
       "\n",
       "    .dataframe tbody tr th {\n",
       "        vertical-align: top;\n",
       "    }\n",
       "\n",
       "    .dataframe thead th {\n",
       "        text-align: right;\n",
       "    }\n",
       "</style>\n",
       "<table border=\"1\" class=\"dataframe\">\n",
       "  <thead>\n",
       "    <tr style=\"text-align: right;\">\n",
       "      <th></th>\n",
       "      <th>periodo</th>\n",
       "      <th>departamento</th>\n",
       "      <th>distrito</th>\n",
       "      <th>cliente</th>\n",
       "      <th>punto_geografico</th>\n",
       "      <th>total_bruto</th>\n",
       "    </tr>\n",
       "  </thead>\n",
       "  <tbody>\n",
       "    <tr>\n",
       "      <th>0</th>\n",
       "      <td>2018-01-01</td>\n",
       "      <td>SAN MARTIN</td>\n",
       "      <td>CACATACHI</td>\n",
       "      <td>220903</td>\n",
       "      <td>-6.46781171215, -76.4384114549</td>\n",
       "      <td>227,089.30</td>\n",
       "    </tr>\n",
       "    <tr>\n",
       "      <th>1</th>\n",
       "      <td>2018-01-01</td>\n",
       "      <td>APURIMAC</td>\n",
       "      <td>JUAN ESPINOZA MEDRANO</td>\n",
       "      <td>30304</td>\n",
       "      <td>-14.5586108444, -72.9083883011</td>\n",
       "      <td>226,038.50</td>\n",
       "    </tr>\n",
       "    <tr>\n",
       "      <th>2</th>\n",
       "      <td>2018-01-01</td>\n",
       "      <td>PIURA</td>\n",
       "      <td>CANCHAQUE</td>\n",
       "      <td>200302</td>\n",
       "      <td>-5.31206763234, -79.6258326484</td>\n",
       "      <td>195,181.90</td>\n",
       "    </tr>\n",
       "    <tr>\n",
       "      <th>3</th>\n",
       "      <td>2018-01-01</td>\n",
       "      <td>PUNO</td>\n",
       "      <td>YANAHUAYA</td>\n",
       "      <td>211208</td>\n",
       "      <td>-14.3311418177, -69.1270554713</td>\n",
       "      <td>193,927.00</td>\n",
       "    </tr>\n",
       "    <tr>\n",
       "      <th>4</th>\n",
       "      <td>2018-01-01</td>\n",
       "      <td>LIMA</td>\n",
       "      <td>COPA</td>\n",
       "      <td>150302</td>\n",
       "      <td>-10.3644795714, -77.0233787817</td>\n",
       "      <td>190,143.25</td>\n",
       "    </tr>\n",
       "  </tbody>\n",
       "</table>\n",
       "</div>"
      ],
      "text/plain": [
       "     periodo departamento               distrito cliente  \\\n",
       "0 2018-01-01   SAN MARTIN              CACATACHI  220903   \n",
       "1 2018-01-01     APURIMAC  JUAN ESPINOZA MEDRANO   30304   \n",
       "2 2018-01-01        PIURA              CANCHAQUE  200302   \n",
       "3 2018-01-01         PUNO              YANAHUAYA  211208   \n",
       "4 2018-01-01         LIMA                   COPA  150302   \n",
       "\n",
       "                 punto_geografico  total_bruto  \n",
       "0  -6.46781171215, -76.4384114549   227,089.30  \n",
       "1  -14.5586108444, -72.9083883011   226,038.50  \n",
       "2  -5.31206763234, -79.6258326484   195,181.90  \n",
       "3  -14.3311418177, -69.1270554713   193,927.00  \n",
       "4  -10.3644795714, -77.0233787817   190,143.25  "
      ]
     },
     "metadata": {},
     "output_type": "display_data"
    },
    {
     "name": "stdout",
     "output_type": "stream",
     "text": [
      "(590, 6)\n"
     ]
    }
   ],
   "source": [
    "display(df5_v.head())\n",
    "print(df5_v.shape)"
   ]
  },
  {
   "cell_type": "code",
   "execution_count": 110,
   "id": "7d8cd184",
   "metadata": {},
   "outputs": [
    {
     "name": "stderr",
     "output_type": "stream",
     "text": [
      "100%|████████████████████████████████████████████████████████████████████████████████████████████| 1/1 [00:00<?, ?it/s]\n"
     ]
    }
   ],
   "source": [
    "# Definir tabla en Big Query\n",
    "target_table = 'dwh_queries.Top_Zonas'\n",
    "project_id = 'sien-project'\n",
    "df5_v.to_gbq(target_table, \n",
    "             project_id,\n",
    "             if_exists='replace',\n",
    "             credentials=credentials)"
   ]
  },
  {
   "cell_type": "markdown",
   "id": "878b9f41",
   "metadata": {},
   "source": [
    "### 6. Banco más factible para solicitar un ajuste de comisión"
   ]
  },
  {
   "cell_type": "code",
   "execution_count": 128,
   "id": "98a9d906",
   "metadata": {},
   "outputs": [],
   "source": [
    "# Crear una copia de fact_venta\n",
    "df6=fact_venta.copy()\\\n",
    "    .merge(dim_banco, how='left', on='cod_banco')\n",
    "\n",
    "# 1.Agrupar la suma de comision por fecha_venta y nombre_banco\n",
    "# 2.Ordenar fecha_venta,comision de forma ascendente, descendente respectivamente\n",
    "# 3.Tomar los 6 primeros valores segun fecha_venta\n",
    "# 4.Eliminar el indice creado en el punto 1\n",
    "df6_final=df6.groupby([df6['fecha_venta'].dt.to_period(\"M\"),'nombre_banco'])[['comision']].sum()\\\n",
    "            .sort_values(by=['fecha_venta','comision'],ascending=[True,False])\\\n",
    "            .groupby(['fecha_venta']).head(6)\\\n",
    "            .reset_index(level=[0,1])\n",
    "\n",
    "# Cambiamos de formato a la columna fecha_venta de (Año y Mes) a (Año, Mes y Día)\n",
    "df6_final['fecha_venta'] = df6_final['fecha_venta'].astype(str)\n",
    "df6_final['fecha_venta'] = pd.to_datetime(df6_final['fecha_venta'])\n",
    "\n",
    "# Cambiamos nombre de las columnas\n",
    "df6_final.rename(columns={\"fecha_venta\": \"periodo\",\"nombre_banco\":\"banco\"},inplace=True)"
   ]
  },
  {
   "cell_type": "code",
   "execution_count": 132,
   "id": "8f3ec01c",
   "metadata": {},
   "outputs": [
    {
     "data": {
      "text/html": [
       "<div>\n",
       "<style scoped>\n",
       "    .dataframe tbody tr th:only-of-type {\n",
       "        vertical-align: middle;\n",
       "    }\n",
       "\n",
       "    .dataframe tbody tr th {\n",
       "        vertical-align: top;\n",
       "    }\n",
       "\n",
       "    .dataframe thead th {\n",
       "        text-align: right;\n",
       "    }\n",
       "</style>\n",
       "<table border=\"1\" class=\"dataframe\">\n",
       "  <thead>\n",
       "    <tr style=\"text-align: right;\">\n",
       "      <th></th>\n",
       "      <th>periodo</th>\n",
       "      <th>banco</th>\n",
       "      <th>comision</th>\n",
       "    </tr>\n",
       "  </thead>\n",
       "  <tbody>\n",
       "    <tr>\n",
       "      <th>0</th>\n",
       "      <td>2022-01-01</td>\n",
       "      <td>MIBANCO</td>\n",
       "      <td>8,366.40</td>\n",
       "    </tr>\n",
       "    <tr>\n",
       "      <th>1</th>\n",
       "      <td>2022-01-01</td>\n",
       "      <td>BCP</td>\n",
       "      <td>7,077.00</td>\n",
       "    </tr>\n",
       "    <tr>\n",
       "      <th>2</th>\n",
       "      <td>2022-01-01</td>\n",
       "      <td>INTERBANK</td>\n",
       "      <td>6,081.00</td>\n",
       "    </tr>\n",
       "    <tr>\n",
       "      <th>3</th>\n",
       "      <td>2022-01-01</td>\n",
       "      <td>BBVA</td>\n",
       "      <td>5,796.00</td>\n",
       "    </tr>\n",
       "    <tr>\n",
       "      <th>4</th>\n",
       "      <td>2022-01-01</td>\n",
       "      <td>CAJA HUANCAYO</td>\n",
       "      <td>5,593.50</td>\n",
       "    </tr>\n",
       "  </tbody>\n",
       "</table>\n",
       "</div>"
      ],
      "text/plain": [
       "     periodo          banco  comision\n",
       "0 2022-01-01        MIBANCO  8,366.40\n",
       "1 2022-01-01            BCP  7,077.00\n",
       "2 2022-01-01      INTERBANK  6,081.00\n",
       "3 2022-01-01           BBVA  5,796.00\n",
       "4 2022-01-01  CAJA HUANCAYO  5,593.50"
      ]
     },
     "metadata": {},
     "output_type": "display_data"
    },
    {
     "name": "stdout",
     "output_type": "stream",
     "text": [
      "(66, 3)\n"
     ]
    }
   ],
   "source": [
    "display(df6_final.head())\n",
    "print(df6_final.shape)"
   ]
  },
  {
   "cell_type": "code",
   "execution_count": 130,
   "id": "e79780c2",
   "metadata": {},
   "outputs": [
    {
     "name": "stderr",
     "output_type": "stream",
     "text": [
      "100%|████████████████████████████████████████████████████████████████████████████████████████████| 1/1 [00:00<?, ?it/s]\n"
     ]
    }
   ],
   "source": [
    "# Definir tabla en Big Query\n",
    "target_table = 'dwh_queries.Top_Bancos'\n",
    "project_id = 'sien-project'\n",
    "df6_final.to_gbq(target_table, \n",
    "             project_id,\n",
    "             if_exists='replace',\n",
    "             credentials=credentials)"
   ]
  },
  {
   "cell_type": "markdown",
   "id": "f65d31a1",
   "metadata": {},
   "source": [
    "### 7. Top N vendedores que más comisionan por venta"
   ]
  },
  {
   "cell_type": "code",
   "execution_count": 141,
   "id": "b3b45fd3",
   "metadata": {},
   "outputs": [],
   "source": [
    "# Crear una copia de fact_venta\n",
    "df7=fact_venta.copy()\n",
    "df7['total_bruto']=df7['precio_unitario']*df7['cantidad']\n",
    "\n",
    "# 1.Agrupar la suma de total_bruto por fecha_venta, nombre_tipo_documento y vendedor\n",
    "# 2.Ordenar fecha_venta,nombre_tipo_documento y total_bruto de forma ascendente,ascendente y  descendente respectivamente\n",
    "# 3.Eliminar el indice creado en el punto 1\n",
    "df7_total=df7.groupby(['fecha_venta','nombre_tipo_documento','vendedor'])[['total_bruto']].sum()\\\n",
    "            .sort_values(by=['fecha_venta','nombre_tipo_documento','total_bruto'],ascending=[True,True,False])\\\n",
    "            .reset_index(level=[0,1,2])\n",
    "\n",
    "# Agregar columnas comision_1 y comision_2\n",
    "df7_total['comision_1']=df7_total['nombre_tipo_documento'].apply(lambda x: 0.012 if x=='BOLETA' else 0.018)*df7_total['total_bruto']\n",
    "df7_total['comision_2']=df7_total[['nombre_tipo_documento','total_bruto']]\\\n",
    "                                .apply(lambda x: 0.01*x['total_bruto'] if (x['total_bruto']>20000 and x['nombre_tipo_documento']=='FACTURA') else 0.0,axis=1)\n",
    "\n",
    "# Crear una copia de dim_vendedor\n",
    "df7_vendedor=dim_vendedor.copy()\n",
    "# Modificar columna supervisor para que los valores nulos sean reemplazados por el valor de cod_vendedor\n",
    "df7_vendedor['supervisor']=df7_vendedor[['supervisor','cod_vendedor']]\\\n",
    "                                .apply(lambda x: x['cod_vendedor'] if x['supervisor']==None else x['supervisor'],axis=1)\n",
    "\n",
    "# 1.Agrupar la suma de comision_1 y comision_2 por fecha_venta, nombre_tipo_documento y vendedor\n",
    "# 2.Eliminar el indice creado en el punto 1\n",
    "# 3.Hacer un left join con df7_vendedor\n",
    "# 4.Ordenar fecha_venta,nombre_tipo_documento y cod_vendedor de forma ascendente, ascendente y descendente respectivamente\n",
    "# 5.Eliminar el indice y resetearlo\n",
    "df7_d=df7_total.groupby([df7_total['fecha_venta'].dt.to_period(\"M\"),'nombre_tipo_documento','vendedor'])[['comision_1','comision_2']].sum()\\\n",
    "        .reset_index(level=[0,1,2])\\\n",
    "        .merge(df7_vendedor, how='left', on='vendedor')\\\n",
    "        .sort_values(by=['fecha_venta','nombre_tipo_documento','cod_vendedor'],ascending=[True,True,True])\\\n",
    "        .reset_index(drop=True)\n",
    "\n",
    "# Crear columna comision_supervisor, para realizar sumatoria de comision_2 por particion fecha_enta y supervisor\n",
    "df7_d['comision_supervisor'] = df7_d.groupby(['fecha_venta','supervisor'])[['comision_2']].transform(np.sum)\n",
    "\n",
    "# Crear columna comision_total, para visualizar la comision que se lleva cada vendedor\n",
    "df7_d['comision_total']=df7_d[['cod_vendedor','supervisor','comision_1','comision_2','comision_supervisor']]\\\n",
    "    .apply(lambda x: (x['comision_1']+x['comision_supervisor']-x['comision_2']) if (x['cod_vendedor']==x['supervisor']) else x['comision_1'],axis=1)\n",
    "\n",
    "# 1.Agrupar la suma de comision_1 por fecha_venta, nombre_tipo_documento y vendedor\n",
    "# 2.Ordenar fecha_venta y comision_total de forma ascendente y descendente respectivamente\n",
    "# 3.Tomar los 10 primeros valores segun fecha_venta\n",
    "# 4.Eliminar el indice creado en el punto 1\n",
    "# 5.Hacer un left join con df7_vendedor\n",
    "df7_e=df_7_d.groupby(['fecha_venta','cod_vendedor'])[['comision_total']].sum()\\\n",
    "        .sort_values(by=['fecha_venta','comision_total'],ascending=[True,False])\\\n",
    "        .groupby(['fecha_venta']).head(10)\\\n",
    "        .reset_index(level=[0,1])\\\n",
    "        .merge(df7_vendedor,on='cod_vendedor',how='left')\n",
    "\n",
    "# Cambiamos de formato a la columna fecha_venta de (Año y Mes) a (Año, Mes y Día)\n",
    "df7_e['fecha_venta'] = df7_e['fecha_venta'].astype(str)\n",
    "df7_e['fecha_venta'] = pd.to_datetime(df7_e['fecha_venta'])\n",
    "\n",
    "# Añadimos columna si es supervisor\n",
    "df7_e['is_supervisor']=df7_e[['supervisor','cod_vendedor']].apply(lambda x: 'Supervisor' if x['cod_vendedor']==x['supervisor'] else 'Vendedor', axis=1)\n",
    "\n",
    "# Cambiamos nombre de las columnas\n",
    "df7_e.rename(columns={\"fecha_venta\": \"periodo\"},inplace=True)"
   ]
  },
  {
   "cell_type": "code",
   "execution_count": 148,
   "id": "7a3e8ddd",
   "metadata": {},
   "outputs": [
    {
     "data": {
      "text/html": [
       "<div>\n",
       "<style scoped>\n",
       "    .dataframe tbody tr th:only-of-type {\n",
       "        vertical-align: middle;\n",
       "    }\n",
       "\n",
       "    .dataframe tbody tr th {\n",
       "        vertical-align: top;\n",
       "    }\n",
       "\n",
       "    .dataframe thead th {\n",
       "        text-align: right;\n",
       "    }\n",
       "</style>\n",
       "<table border=\"1\" class=\"dataframe\">\n",
       "  <thead>\n",
       "    <tr style=\"text-align: right;\">\n",
       "      <th></th>\n",
       "      <th>periodo</th>\n",
       "      <th>cod_vendedor</th>\n",
       "      <th>comision_total</th>\n",
       "      <th>vendedor</th>\n",
       "      <th>supervisor</th>\n",
       "      <th>is_supervisor</th>\n",
       "    </tr>\n",
       "  </thead>\n",
       "  <tbody>\n",
       "    <tr>\n",
       "      <th>0</th>\n",
       "      <td>2018-01-01</td>\n",
       "      <td>VEND051</td>\n",
       "      <td>9,926.57</td>\n",
       "      <td>ZAPATA LOYO, NICOLE</td>\n",
       "      <td>VEND049</td>\n",
       "      <td>Vendedor</td>\n",
       "    </tr>\n",
       "    <tr>\n",
       "      <th>1</th>\n",
       "      <td>2018-01-01</td>\n",
       "      <td>VEND010</td>\n",
       "      <td>9,782.68</td>\n",
       "      <td>VELARDO ALVARADO, MAITE</td>\n",
       "      <td>VEND009</td>\n",
       "      <td>Vendedor</td>\n",
       "    </tr>\n",
       "    <tr>\n",
       "      <th>2</th>\n",
       "      <td>2018-01-01</td>\n",
       "      <td>VEND040</td>\n",
       "      <td>9,160.62</td>\n",
       "      <td>ALCOCER INGUNZA, LIZETH</td>\n",
       "      <td>VEND033</td>\n",
       "      <td>Vendedor</td>\n",
       "    </tr>\n",
       "    <tr>\n",
       "      <th>3</th>\n",
       "      <td>2018-01-01</td>\n",
       "      <td>VEND048</td>\n",
       "      <td>8,680.71</td>\n",
       "      <td>GUERRERO CIEZA, JACKELINE</td>\n",
       "      <td>VEND041</td>\n",
       "      <td>Vendedor</td>\n",
       "    </tr>\n",
       "    <tr>\n",
       "      <th>4</th>\n",
       "      <td>2018-01-01</td>\n",
       "      <td>VEND031</td>\n",
       "      <td>8,181.66</td>\n",
       "      <td>POMA CANTO, MARCOS</td>\n",
       "      <td>VEND025</td>\n",
       "      <td>Vendedor</td>\n",
       "    </tr>\n",
       "  </tbody>\n",
       "</table>\n",
       "</div>"
      ],
      "text/plain": [
       "     periodo cod_vendedor  comision_total                   vendedor  \\\n",
       "0 2018-01-01      VEND051        9,926.57        ZAPATA LOYO, NICOLE   \n",
       "1 2018-01-01      VEND010        9,782.68    VELARDO ALVARADO, MAITE   \n",
       "2 2018-01-01      VEND040        9,160.62    ALCOCER INGUNZA, LIZETH   \n",
       "3 2018-01-01      VEND048        8,680.71  GUERRERO CIEZA, JACKELINE   \n",
       "4 2018-01-01      VEND031        8,181.66         POMA CANTO, MARCOS   \n",
       "\n",
       "  supervisor is_supervisor  \n",
       "0    VEND049      Vendedor  \n",
       "1    VEND009      Vendedor  \n",
       "2    VEND033      Vendedor  \n",
       "3    VEND041      Vendedor  \n",
       "4    VEND025      Vendedor  "
      ]
     },
     "metadata": {},
     "output_type": "display_data"
    },
    {
     "name": "stdout",
     "output_type": "stream",
     "text": [
      "(590, 6)\n"
     ]
    }
   ],
   "source": [
    "display(df7_e.head())\n",
    "print(df7_e.shape)"
   ]
  },
  {
   "cell_type": "code",
   "execution_count": 147,
   "id": "f05c95b6",
   "metadata": {},
   "outputs": [
    {
     "name": "stderr",
     "output_type": "stream",
     "text": [
      "100%|███████████████████████████████████████████████████████████████████████████████████| 1/1 [00:00<00:00, 989.22it/s]\n"
     ]
    }
   ],
   "source": [
    "# Definir tabla en Big Query\n",
    "target_table = 'dwh_queries.Top_Vendedores_Comision'\n",
    "project_id = 'sien-project'\n",
    "df7_e.to_gbq(target_table, \n",
    "             project_id,\n",
    "             if_exists='replace',\n",
    "             credentials=credentials)"
   ]
  },
  {
   "cell_type": "markdown",
   "id": "2d55b269",
   "metadata": {},
   "source": [
    "# Referencias"
   ]
  },
  {
   "cell_type": "markdown",
   "id": "0ca58853",
   "metadata": {},
   "source": [
    "Pandas - Save DataFrame to BigQuery\n",
    "\n",
    "https://kontext.tech/article/682/pandas-save-dataframe-to-bigquery\n"
   ]
  }
 ],
 "metadata": {
  "kernelspec": {
   "display_name": "Python 3 (ipykernel)",
   "language": "python",
   "name": "python3"
  },
  "language_info": {
   "codemirror_mode": {
    "name": "ipython",
    "version": 3
   },
   "file_extension": ".py",
   "mimetype": "text/x-python",
   "name": "python",
   "nbconvert_exporter": "python",
   "pygments_lexer": "ipython3",
   "version": "3.9.13"
  }
 },
 "nbformat": 4,
 "nbformat_minor": 5
}
